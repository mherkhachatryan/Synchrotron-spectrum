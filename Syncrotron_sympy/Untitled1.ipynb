{
 "cells": [
  {
   "cell_type": "code",
   "execution_count": 34,
   "metadata": {
    "collapsed": true
   },
   "outputs": [],
   "source": [
    "from __future__ import division \n",
    "import matplotlib.pyplot as plt\n",
    "from sympy import symbols,exp, pi, lambdify, Piecewise, integrate,ln, init_printing\n",
    "from sympy.utilities.lambdify import lambdify\n",
    "import numpy as np\n",
    "from scipy.integrate import quad\n",
    "from matplotlib.ticker import *\n",
    "from sympy.abc import x,y,z\n",
    "init_printing(use_unicode = False, wrap_line = False) #for beautiful printing "
   ]
  },
  {
   "cell_type": "code",
   "execution_count": 40,
   "metadata": {
    "collapsed": false
   },
   "outputs": [],
   "source": [
    "\n",
    "funct = ln(x**2+y**2+z**2)\n",
    "\n",
    "\n"
   ]
  },
  {
   "cell_type": "code",
   "execution_count": 43,
   "metadata": {
    "collapsed": false
   },
   "outputs": [
    {
     "data": {
      "image/png": "[encoded data removed]",
      "text/latex": [
       "$$\\sqrt{- y^{2} - z^{2}} \\log{\\left (- \\sqrt{- y^{2} - z^{2}} + 1 \\right )} - \\sqrt{- y^{2} - z^{2}} \\log{\\left (- \\sqrt{- y^{2} - z^{2}} + 12 \\right )} - \\sqrt{- y^{2} - z^{2}} \\log{\\left (\\sqrt{- y^{2} - z^{2}} + 1 \\right )} + \\sqrt{- y^{2} - z^{2}} \\log{\\left (\\sqrt{- y^{2} - z^{2}} + 12 \\right )} - \\log{\\left (y^{2} + z^{2} + 1 \\right )} + 12 \\log{\\left (y^{2} + z^{2} + 144 \\right )} - 22$$"
      ],
      "text/plain": [
       "   ___________    /     ___________    \\      ___________    /     ___________     \\      ___________    /   ___________    \\      ___________    /   ___________     \\                                                \n",
       "  /    2    2     |    /    2    2     |     /    2    2     |    /    2    2      |     /    2    2     |  /    2    2     |     /    2    2     |  /    2    2      |      / 2    2    \\         / 2    2      \\     \n",
       "\\/  - y  - z  *log\\- \\/  - y  - z   + 1/ - \\/  - y  - z  *log\\- \\/  - y  - z   + 12/ - \\/  - y  - z  *log\\\\/  - y  - z   + 1/ + \\/  - y  - z  *log\\\\/  - y  - z   + 12/ - log\\y  + z  + 1/ + 12*log\\y  + z  + 144/ - 22"
      ]
     },
     "execution_count": 43,
     "metadata": {},
     "output_type": "execute_result"
    }
   ],
   "source": [
    "integrate(funct, (x,1,12))"
   ]
  },
  {
   "cell_type": "code",
   "execution_count": null,
   "metadata": {
    "collapsed": false
   },
   "outputs": [],
   "source": []
  },
  {
   "cell_type": "code",
   "execution_count": null,
   "metadata": {
    "collapsed": true
   },
   "outputs": [],
   "source": []
  }
 ],
 "metadata": {
  "kernelspec": {
   "display_name": "Python 3",
   "language": "python",
   "name": "python3"
  },
  "language_info": {
   "codemirror_mode": {
    "name": "ipython",
    "version": 3
   },
   "file_extension": ".py",
   "mimetype": "text/x-python",
   "name": "python",
   "nbconvert_exporter": "python",
   "pygments_lexer": "ipython3",
   "version": "3.6.0"
  }
 },
 "nbformat": 4,
 "nbformat_minor": 2
}
