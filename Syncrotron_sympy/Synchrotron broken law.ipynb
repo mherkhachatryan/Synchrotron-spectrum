{
 "cells": [
  {
   "cell_type": "code",
   "execution_count": 1,
   "metadata": {
    "collapsed": true
   },
   "outputs": [],
   "source": [
    "%matplotlib inline "
   ]
  },
  {
   "cell_type": "code",
   "execution_count": 2,
   "metadata": {
    "collapsed": false
   },
   "outputs": [],
   "source": [
    "from __future__ import division \n",
    "import matplotlib.pyplot as plt\n",
    "from sympy import symbols,exp, pi, lambdify, Piecewise, integrate,ln, init_printing, Rational\n",
    "from numpy import linspace\n",
    "from matplotlib.ticker import *\n",
    "init_printing(use_unicode = False, wrap_line = False) #for beautiful printing "
   ]
  },
  {
   "cell_type": "code",
   "execution_count": null,
   "metadata": {
    "collapsed": false
   },
   "outputs": [],
   "source": [
    "##################### defining constants\n",
    "q = 4.8032 * 10**-10  #Electron charge, g**(1/2)*cm**(3/2)*s**-1\n",
    "h = 6.5821* 10**-16   #Planck constants h bar, Ev*s\n",
    "m = 9.1095 * 10**-28  #Electron mass, g\n",
    "c = 2.9979 * 10**10   #Light speed, cm*s-1\n",
    "mcsquare = 511000     #0.511 MeV electrons rest energy\n",
    "hev = 4.135667662*10**-15 #Plank's constant in eV\n",
    "ergtoev = 6.24*10**11 #eV\n",
    "evtoerg = 0.16*10**-11 #erg\n",
    "distance = 1.88274 * 10**28 #Distance Earth and object\n",
    "gamma_min = 2000      #Electron min energy\n",
    "gamma_max = 10**10    #Electron max energy\n",
    "delta = 18            #Doppler and Lorenz factor\n",
    "gamma_br = 5.4*10**3 \n",
    "N0 = 23*10**52\n",
    "alpha1 = 2\n",
    "alpha2 = 3.79\n",
    "B = 0.61\n",
    "#############################################\n",
    "\n",
    "#symbols\n",
    "x,gamma,Eg,j = symbols(\"x  gamma Eg j\")\n",
    "#######\n",
    "#Functions\n",
    "F= 2.15*x**Rational(1/3)*(1+3.06*x)**Rational(1/6)*(1+0.884*x**Rational(2/3)+ \\\n",
    "                                                    0.471*x**Rational(4/3))*exp(-x)/(1+1.64*x**Rational(2/3)+0.974*x**Rational(4/3)) #no dimention\n",
    "Ec = 3*q*h*B*gamma**2/(2*m*c)  ##dimention is eV\n",
    "Energy=(3**0.5*q**3*B*F.subs(x,Eg/Ec))/(2*pi*mcsquare*h*Eg) #Bessel function is energy dN/(dEgdt)\n",
    "\n",
    "\n",
    "#Electron Distribution\n",
    "ElectronDist= Piecewise((N0*gamma**(-alpha1),  gamma<gamma_br), (N0*gamma_br**(alpha2-alpha1)*gamma**(-alpha2), gamma>=gamma_br)) #is apiecewise function, for given condition\n",
    "\n",
    "#luminosity and flux for exponential law \n",
    "EnergySyn = integrate(10**j* ln(10) * Energy.subs (gamma,10**j) *ElectronDist.subs(gamma,10**j),(j,ln( gamma_min,10),ln(gamma_max,10))) #all energy of photons\n",
    "print(EnergySyn)\n",
    "#Luminosity = Eg**2 "
   ]
  },
  {
   "cell_type": "code",
   "execution_count": null,
   "metadata": {
    "collapsed": false
   },
   "outputs": [],
   "source": [
    "Energy"
   ]
  },
  {
   "cell_type": "code",
   "execution_count": null,
   "metadata": {
    "collapsed": false
   },
   "outputs": [],
   "source": [
    "Integral(1/x,x)"
   ]
  },
  {
   "cell_type": "code",
   "execution_count": null,
   "metadata": {
    "collapsed": false
   },
   "outputs": [],
   "source": [
    "energysubs = Energy.subs(gamma, 10**j)\n",
    "func = integrate(energysubs ,(j,ln( gamma_min,10),ln(gamma_max,10)) )\n",
    "print(func)"
   ]
  },
  {
   "cell_type": "code",
   "execution_count": null,
   "metadata": {
    "collapsed": false
   },
   "outputs": [],
   "source": [
    "energysubs"
   ]
  },
  {
   "cell_type": "code",
   "execution_count": null,
   "metadata": {
    "collapsed": true
   },
   "outputs": [],
   "source": []
  }
 ],
 "metadata": {
  "kernelspec": {
   "display_name": "Python 3",
   "language": "python",
   "name": "python3"
  },
  "language_info": {
   "codemirror_mode": {
    "name": "ipython",
    "version": 3
   },
   "file_extension": ".py",
   "mimetype": "text/x-python",
   "name": "python",
   "nbconvert_exporter": "python",
   "pygments_lexer": "ipython3",
   "version": "3.6.7"
  }
 },
 "nbformat": 4,
 "nbformat_minor": 2
}
